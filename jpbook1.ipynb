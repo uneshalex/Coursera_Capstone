 # This is Jypyuter Notebook written using Git Bash and pushed to Git Hub Repository
 import numpy as np
 import pandas as pd
 import matplotlib as mpl
 %matplotlib inline
 import matplotlib.pyplot as pd
 print "Hello CapStone Project Course!"

